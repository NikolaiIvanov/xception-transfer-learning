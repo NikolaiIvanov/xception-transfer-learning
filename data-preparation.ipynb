{
 "cells": [
  {
   "cell_type": "code",
   "execution_count": 1,
   "metadata": {
    "collapsed": true
   },
   "outputs": [],
   "source": [
    "from os import listdir, rename\n",
    "from os.path import isfile, join\n",
    "\n",
    "source_dir = 'data/train_raw'\n",
    "train_dir = 'data/train'\n",
    "validation_dir = 'data/validation'\n",
    "test_dir = 'data/test'\n",
    "\n",
    "cats_dir = 'cats'\n",
    "dogs_dir = 'dogs'\n",
    "\n",
    "images = [f for f in listdir(source_dir) if isfile(join(source_dir, f))]"
   ]
  },
  {
   "cell_type": "code",
   "execution_count": 2,
   "metadata": {},
   "outputs": [
    {
     "data": {
      "text/plain": [
       "'dog.4336.jpg'"
      ]
     },
     "execution_count": 2,
     "metadata": {},
     "output_type": "execute_result"
    }
   ],
   "source": [
    "dogs = [i for i in images if i.startswith('dog')]\n",
    "dogs[0]"
   ]
  },
  {
   "cell_type": "code",
   "execution_count": 3,
   "metadata": {},
   "outputs": [
    {
     "data": {
      "text/plain": [
       "'cat.4588.jpg'"
      ]
     },
     "execution_count": 3,
     "metadata": {},
     "output_type": "execute_result"
    }
   ],
   "source": [
    "cats = [i for i in images if i.startswith('cat')]\n",
    "cats[0]"
   ]
  },
  {
   "cell_type": "code",
   "execution_count": 4,
   "metadata": {
    "collapsed": true
   },
   "outputs": [],
   "source": [
    "for cat in cats[:2000]:\n",
    "    rename(join(source_dir, cat), join(train_dir, cats_dir, cat))\n",
    "    \n",
    "for cat in cats [2000:3000]:\n",
    "    rename(join(source_dir, cat), join(validation_dir, cats_dir, cat))\n",
    "    \n",
    "for cat in cats [3000:6000]:\n",
    "    rename(join(source_dir, cat), join(test_dir, cats_dir, cat))"
   ]
  },
  {
   "cell_type": "code",
   "execution_count": 5,
   "metadata": {
    "collapsed": true
   },
   "outputs": [],
   "source": [
    "for dog in dogs[:2000]:\n",
    "    rename(join(source_dir, dog), join(train_dir, dogs_dir, dog))\n",
    "    \n",
    "for dog in dogs [2000:3000]:\n",
    "    rename(join(source_dir, dog), join(validation_dir, dogs_dir, dog))\n",
    "    \n",
    "for dog in dogs [3000:6000]:\n",
    "    rename(join(source_dir, dog), join(test_dir, dogs_dir, dog))"
   ]
  },
  {
   "cell_type": "code",
   "execution_count": null,
   "metadata": {
    "collapsed": true
   },
   "outputs": [],
   "source": []
  }
 ],
 "metadata": {
  "kernelspec": {
   "display_name": "Python 3",
   "language": "python",
   "name": "python3"
  },
  "language_info": {
   "codemirror_mode": {
    "name": "ipython",
    "version": 3
   },
   "file_extension": ".py",
   "mimetype": "text/x-python",
   "name": "python",
   "nbconvert_exporter": "python",
   "pygments_lexer": "ipython3",
   "version": "3.6.1"
  }
 },
 "nbformat": 4,
 "nbformat_minor": 2
}
