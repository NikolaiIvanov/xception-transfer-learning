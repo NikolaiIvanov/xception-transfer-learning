{
 "cells": [
  {
   "cell_type": "code",
   "execution_count": 1,
   "metadata": {},
   "outputs": [
    {
     "name": "stderr",
     "output_type": "stream",
     "text": [
      "Using TensorFlow backend.\n"
     ]
    }
   ],
   "source": [
    "import numpy as np\n",
    "import tensorflow as tf\n",
    "\n",
    "from keras.backend.tensorflow_backend import set_session\n",
    "\n",
    "# We want our experiment to be reproducible\n",
    "np.random.seed(42)\n",
    "tf.set_random_seed(42)\n",
    "\n",
    "# This setting allows Tensorflow to allocate GPU memory in runtime rather than at the session initialization.\n",
    "config = tf.ConfigProto()\n",
    "config.gpu_options.allow_growth = True\n",
    "set_session(tf.Session(config=config))"
   ]
  },
  {
   "cell_type": "code",
   "execution_count": 2,
   "metadata": {
    "collapsed": true
   },
   "outputs": [],
   "source": [
    "train_data_dir = 'data/train'\n",
    "test_data_dir = 'data/test'\n",
    "validation_data_dir = 'data/validation'\n",
    "\n",
    "img_height = 299\n",
    "img_width = 299\n",
    "\n",
    "# You may need to decrease batch size depending on your GPU capacity\n",
    "batch_size = 16\n",
    "epochs = 10\n",
    "\n",
    "train_first_class = 2000\n",
    "train_second_class = 2000\n",
    "\n",
    "val_first_class = 1000\n",
    "val_second_class = 1000\n",
    "\n",
    "nb_train_samples = train_first_class + train_second_class\n",
    "nb_validation_samples = val_first_class + val_second_class"
   ]
  },
  {
   "cell_type": "code",
   "execution_count": 3,
   "metadata": {},
   "outputs": [
    {
     "name": "stdout",
     "output_type": "stream",
     "text": [
      "Found 4000 images belonging to 2 classes.\n",
      "Prediction of the training set finished.\n",
      "Found 2000 images belonging to 2 classes.\n",
      "Prediction of the validation set finished.\n"
     ]
    }
   ],
   "source": [
    "from keras.layers import Input\n",
    "from keras.applications import xception\n",
    "from keras.preprocessing import image\n",
    "\n",
    "input_tensor = Input(shape=(img_height,img_width,3))\n",
    "\n",
    "base_model = xception.Xception(weights='imagenet',\n",
    "                          include_top=False,\n",
    "                          input_shape=(img_width, img_height, 3),\n",
    "                          pooling='avg')\n",
    "\n",
    "data_generator = image.ImageDataGenerator(rescale=1. / 255)\n",
    "\n",
    "train_generator = data_generator.flow_from_directory(\n",
    "    train_data_dir,\n",
    "    target_size=(img_height, img_width),\n",
    "    batch_size=batch_size,\n",
    "    class_mode=None,\n",
    "    shuffle=False)\n",
    "\n",
    "bottleneck_features_train = base_model.predict_generator(\n",
    "        train_generator, \n",
    "        nb_train_samples // batch_size)\n",
    "\n",
    "print('Prediction of the training set finished.')\n",
    "\n",
    "np.save(open('bottleneck_features_train.npy', 'wb'),\n",
    "            bottleneck_features_train)\n",
    "\n",
    "validation_generator = data_generator.flow_from_directory(\n",
    "    validation_data_dir,\n",
    "    target_size=(img_height, img_width),\n",
    "    batch_size=batch_size,\n",
    "    class_mode=None,\n",
    "    shuffle=False)\n",
    "\n",
    "bottleneck_features_validation = base_model.predict_generator(\n",
    "        validation_generator, \n",
    "        nb_validation_samples // batch_size)\n",
    "\n",
    "print('Prediction of the validation set finished.')\n",
    "\n",
    "np.save(open('bottleneck_features_validation.npy', 'wb'),\n",
    "            bottleneck_features_validation)"
   ]
  },
  {
   "cell_type": "code",
   "execution_count": 4,
   "metadata": {
    "collapsed": true
   },
   "outputs": [],
   "source": [
    "train_data = np.load(open('bottleneck_features_train.npy', 'rb'))\n",
    "train_labels = np.array(([0] * train_first_class) + ([1] * train_second_class))\n",
    "\n",
    "validation_data = np.load(open('bottleneck_features_validation.npy', 'rb'))\n",
    "validation_labels = np.array(\n",
    "        [0] * (val_first_class) + [1] * (val_second_class))"
   ]
  },
  {
   "cell_type": "code",
   "execution_count": 14,
   "metadata": {
    "scrolled": true
   },
   "outputs": [
    {
     "name": "stdout",
     "output_type": "stream",
     "text": [
      "Train on 4000 samples, validate on 2000 samples\n",
      "Epoch 1/10\n",
      "3536/4000 [=========================>....] - ETA: 0s - loss: 0.4904 - acc: 0.8125Epoch 00000: val_loss improved from inf to 0.20521, saving model to top-weights.hdf5\n",
      "4000/4000 [==============================] - 0s - loss: 0.4672 - acc: 0.8277 - val_loss: 0.2052 - val_acc: 0.9895\n",
      "Epoch 2/10\n",
      "3952/4000 [============================>.] - ETA: 0s - loss: 0.1741 - acc: 0.9744Epoch 00001: val_loss improved from 0.20521 to 0.07476, saving model to top-weights.hdf5\n",
      "4000/4000 [==============================] - 0s - loss: 0.1739 - acc: 0.9745 - val_loss: 0.0748 - val_acc: 0.9910\n",
      "Epoch 3/10\n",
      "3744/4000 [===========================>..] - ETA: 0s - loss: 0.1047 - acc: 0.9784Epoch 00002: val_loss improved from 0.07476 to 0.04827, saving model to top-weights.hdf5\n",
      "4000/4000 [==============================] - 0s - loss: 0.1041 - acc: 0.9777 - val_loss: 0.0483 - val_acc: 0.9920\n",
      "Epoch 4/10\n",
      "3920/4000 [============================>.] - ETA: 0s - loss: 0.0746 - acc: 0.9849Epoch 00003: val_loss improved from 0.04827 to 0.03703, saving model to top-weights.hdf5\n",
      "4000/4000 [==============================] - 0s - loss: 0.0744 - acc: 0.9850 - val_loss: 0.0370 - val_acc: 0.9925\n",
      "Epoch 5/10\n",
      "3792/4000 [===========================>..] - ETA: 0s - loss: 0.0609 - acc: 0.9847Epoch 00004: val_loss improved from 0.03703 to 0.03189, saving model to top-weights.hdf5\n",
      "4000/4000 [==============================] - 0s - loss: 0.0608 - acc: 0.9842 - val_loss: 0.0319 - val_acc: 0.9935\n",
      "Epoch 6/10\n",
      "3968/4000 [============================>.] - ETA: 0s - loss: 0.0557 - acc: 0.9871Epoch 00005: val_loss improved from 0.03189 to 0.02904, saving model to top-weights.hdf5\n",
      "4000/4000 [==============================] - 0s - loss: 0.0554 - acc: 0.9872 - val_loss: 0.0290 - val_acc: 0.9935\n",
      "Epoch 7/10\n",
      "3968/4000 [============================>.] - ETA: 0s - loss: 0.0505 - acc: 0.9866Epoch 00006: val_loss improved from 0.02904 to 0.02735, saving model to top-weights.hdf5\n",
      "4000/4000 [==============================] - 0s - loss: 0.0501 - acc: 0.9868 - val_loss: 0.0274 - val_acc: 0.9940\n",
      "Epoch 8/10\n",
      "3552/4000 [=========================>....] - ETA: 0s - loss: 0.0517 - acc: 0.9856Epoch 00007: val_loss improved from 0.02735 to 0.02584, saving model to top-weights.hdf5\n",
      "4000/4000 [==============================] - 0s - loss: 0.0508 - acc: 0.9865 - val_loss: 0.0258 - val_acc: 0.9940\n",
      "Epoch 9/10\n",
      "3552/4000 [=========================>....] - ETA: 0s - loss: 0.0430 - acc: 0.9899Epoch 00008: val_loss improved from 0.02584 to 0.02493, saving model to top-weights.hdf5\n",
      "4000/4000 [==============================] - 0s - loss: 0.0424 - acc: 0.9895 - val_loss: 0.0249 - val_acc: 0.9935\n",
      "Epoch 10/10\n",
      "3648/4000 [==========================>...] - ETA: 0s - loss: 0.0457 - acc: 0.9882Epoch 00009: val_loss improved from 0.02493 to 0.02432, saving model to top-weights.hdf5\n",
      "4000/4000 [==============================] - 0s - loss: 0.0465 - acc: 0.9882 - val_loss: 0.0243 - val_acc: 0.9940\n"
     ]
    }
   ],
   "source": [
    "from keras.models import Sequential\n",
    "from keras.callbacks import ModelCheckpoint\n",
    "from keras.optimizers import SGD\n",
    "from keras.layers import Dropout, Dense\n",
    "\n",
    "model = Sequential()\n",
    "    \n",
    "model.add(Dense(256, activation='relu', input_shape=base_model.output_shape[1:]))\n",
    "model.add(Dropout(0.5))\n",
    "\n",
    "model.add(Dense(128, activation='relu'))\n",
    "model.add(Dropout(0.5))    \n",
    "\n",
    "model.add(Dense(1, activation='sigmoid'))\n",
    "\n",
    "model.compile(optimizer=SGD(lr=0.005),\n",
    "              loss='binary_crossentropy',\n",
    "              metrics=['accuracy'])\n",
    "\n",
    "checkpointer = ModelCheckpoint(filepath='top-weights.hdf5', verbose=1, save_best_only=True)\n",
    "\n",
    "history = model.fit(train_data,\n",
    "                    train_labels,\n",
    "                    epochs=epochs,\n",
    "                    batch_size=batch_size,\n",
    "                    callbacks=[checkpointer],\n",
    "                    validation_data=(validation_data, validation_labels))"
   ]
  },
  {
   "cell_type": "code",
   "execution_count": 15,
   "metadata": {},
   "outputs": [
    {
     "data": {
      "image/png": "[encoded data removed]",
      "text/plain": [
       "<matplotlib.figure.Figure at 0x7f237cd1eef0>"
      ]
     },
     "metadata": {},
     "output_type": "display_data"
    },
    {
     "data": {
      "image/png": "[encoded data removed]",
      "text/plain": [
       "<matplotlib.figure.Figure at 0x7f237cc2cc50>"
      ]
     },
     "metadata": {},
     "output_type": "display_data"
    }
   ],
   "source": [
    "%matplotlib inline\n",
    "from matplotlib import pyplot as plt\n",
    "\n",
    "plt.plot(history.history['acc'])\n",
    "plt.plot(history.history['val_acc'])\n",
    "plt.title('model accuracy')\n",
    "plt.ylabel('accuracy')\n",
    "plt.xlabel('epoch')\n",
    "plt.legend(['train', 'test'], loc='upper left')\n",
    "plt.show()\n",
    "\n",
    "plt.plot(history.history['loss'])\n",
    "plt.plot(history.history['val_loss'])\n",
    "plt.title('model loss')\n",
    "plt.ylabel('loss')\n",
    "plt.xlabel('epoch')\n",
    "plt.legend(['train', 'test'], loc='upper left')\n",
    "plt.show()"
   ]
  },
  {
   "cell_type": "code",
   "execution_count": 23,
   "metadata": {},
   "outputs": [
    {
     "name": "stdout",
     "output_type": "stream",
     "text": [
      "Found 4000 images belonging to 2 classes.\n",
      "Found 2000 images belonging to 2 classes.\n",
      "Epoch 1/5\n",
      "500/500 [==============================] - 251s - loss: 0.1218 - acc: 0.9577 - val_loss: 0.0271 - val_acc: 0.9935\n",
      "Epoch 2/5\n",
      "500/500 [==============================] - 248s - loss: 0.0703 - acc: 0.9798 - val_loss: 0.0208 - val_acc: 0.9945\n",
      "Epoch 3/5\n",
      "500/500 [==============================] - 248s - loss: 0.0659 - acc: 0.9798 - val_loss: 0.0205 - val_acc: 0.9945\n",
      "Epoch 4/5\n",
      "500/500 [==============================] - 251s - loss: 0.0566 - acc: 0.9825 - val_loss: 0.0216 - val_acc: 0.9925\n",
      "Epoch 5/5\n",
      "500/500 [==============================] - 251s - loss: 0.0364 - acc: 0.9898 - val_loss: 0.0186 - val_acc: 0.9955\n"
     ]
    }
   ],
   "source": [
    "from keras.models import Model\n",
    "\n",
    "batch_size = 8\n",
    "epochs = 5\n",
    "\n",
    "input_tensor = Input(shape=(img_height,img_width,3))\n",
    "\n",
    "base_model = xception.Xception(weights='imagenet',\n",
    "                                            include_top=False,\n",
    "                                            input_shape=(img_width, img_height, 3),\n",
    "                                            pooling='avg')\n",
    "\n",
    "top_model = Sequential()\n",
    "    \n",
    "top_model.add(Dense(256, activation='relu', input_shape=base_model.output_shape[1:]))\n",
    "top_model.add(Dropout(0.5))\n",
    "\n",
    "top_model.add(Dense(128, activation='relu'))\n",
    "top_model.add(Dropout(0.5))    \n",
    "\n",
    "top_model.add(Dense(1, activation='sigmoid'))\n",
    "\n",
    "top_model.load_weights('top-weights.hdf5')\n",
    "\n",
    "model = Model(inputs=base_model.input, outputs=top_model(base_model.output))\n",
    "\n",
    "model.compile(optimizer=SGD(lr=0.005, momentum=0.1, nesterov=True),\n",
    "              loss='binary_crossentropy',\n",
    "              metrics=['accuracy'])\n",
    "\n",
    "\n",
    "checkpointer = ModelCheckpoint(filepath='weights.hdf5', verbose=1, save_best_only=True)\n",
    "\n",
    "train_datagen = image.ImageDataGenerator(\n",
    "        rescale=1./255,\n",
    "        shear_range=0.2,\n",
    "        zoom_range=0.2,\n",
    "        horizontal_flip=True)\n",
    "\n",
    "test_datagen = image.ImageDataGenerator(rescale=1./255)\n",
    "\n",
    "train_generator = train_datagen.flow_from_directory(\n",
    "        train_data_dir,\n",
    "        target_size=(img_height, img_width),\n",
    "        batch_size=batch_size,\n",
    "        class_mode='binary')\n",
    "\n",
    "validation_generator = test_datagen.flow_from_directory(\n",
    "        validation_data_dir,\n",
    "        target_size=(img_height, img_width),\n",
    "        batch_size=batch_size,\n",
    "        class_mode='binary')\n",
    "\n",
    "history = model.fit_generator(train_generator,\n",
    "                            steps_per_epoch=nb_train_samples // batch_size,\n",
    "                            epochs=epochs,\n",
    "                            validation_data=validation_generator,\n",
    "                            validation_steps=nb_validation_samples // batch_size)"
   ]
  },
  {
   "cell_type": "code",
   "execution_count": 25,
   "metadata": {},
   "outputs": [
    {
     "name": "stdout",
     "output_type": "stream",
     "text": [
      "Found 6000 images belonging to 2 classes.\n",
      "Loss:  0.00365509926633 Accuracy:  1.0\n"
     ]
    }
   ],
   "source": [
    "test_generator = data_generator.flow_from_directory(\n",
    "    test_data_dir,\n",
    "    target_size=(img_height, img_width),\n",
    "    batch_size=batch_size,\n",
    "    class_mode='binary',\n",
    "    shuffle=False)\n",
    "\n",
    "score = model.evaluate_generator(test_generator, batch_size)\n",
    "\n",
    "print(\"Loss: \", score[0], \"Accuracy: \", score[1])"
   ]
  },
  {
   "cell_type": "code",
   "execution_count": null,
   "metadata": {
    "collapsed": true
   },
   "outputs": [],
   "source": []
  }
 ],
 "metadata": {
  "kernelspec": {
   "display_name": "Python 3",
   "language": "python",
   "name": "python3"
  },
  "language_info": {
   "codemirror_mode": {
    "name": "ipython",
    "version": 3
   },
   "file_extension": ".py",
   "mimetype": "text/x-python",
   "name": "python",
   "nbconvert_exporter": "python",
   "pygments_lexer": "ipython3",
   "version": "3.6.1"
  }
 },
 "nbformat": 4,
 "nbformat_minor": 2
}
